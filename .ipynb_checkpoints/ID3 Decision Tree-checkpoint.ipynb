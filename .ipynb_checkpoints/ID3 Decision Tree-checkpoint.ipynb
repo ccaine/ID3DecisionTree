{
 "cells": [
  {
   "cell_type": "code",
   "execution_count": 1,
   "metadata": {},
   "outputs": [],
   "source": [
    "import numpy as np\n",
    "import pandas as pd\n",
    "import math\n",
    "from queue import *\n",
    "from collections import Counter"
   ]
  },
  {
   "cell_type": "code",
   "execution_count": 2,
   "metadata": {},
   "outputs": [],
   "source": [
    "# Read in data\n",
    "with open('../pa2train.txt') as f:\n",
    "    train = f.readlines()\n",
    "train = [x.strip() for x in train] \n",
    "\n",
    "with open('../pa2validation.txt') as f:\n",
    "    val = f.readlines()\n",
    "val = [x.strip() for x in val] \n",
    "\n",
    "with open('../pa2test.txt') as f:\n",
    "    test = f.readlines()\n",
    "test = [x.strip() for x in test] "
   ]
  },
  {
   "cell_type": "code",
   "execution_count": 3,
   "metadata": {},
   "outputs": [],
   "source": [
    "# create empty lists for data sorting\n",
    "trainData = []\n",
    "trainLabel = []\n",
    "\n",
    "valData = []\n",
    "valLabel = []\n",
    "\n",
    "testData = []\n",
    "testLabel = []"
   ]
  },
  {
   "cell_type": "code",
   "execution_count": 4,
   "metadata": {},
   "outputs": [],
   "source": [
    "# Remove spaces and split into label/data\n",
    "for i in range (0,len(train)):\n",
    "    train[i] = train[i].split(\" \")\n",
    "    trainLabel.append(train[i][22])\n",
    "    trainData.append(train[i][:22])\n",
    "\n",
    "for i in range (0,len(val)):\n",
    "    val[i] = val[i].split(\" \")\n",
    "    valLabel.append(val[i][22])\n",
    "    valData.append(val[i][:22])\n",
    "\n",
    "for i in range (0,len(test)):\n",
    "    test[i] = test[i].split(\" \")\n",
    "    testLabel.append(test[i][22])\n",
    "    testData.append(test[i][:22])"
   ]
  },
  {
   "cell_type": "code",
   "execution_count": 5,
   "metadata": {},
   "outputs": [],
   "source": [
    "# convert label string to int\n",
    "trainLabel = [float(i) for i in trainLabel]\n",
    "\n",
    "valLabel = [float(i) for i in valLabel]\n",
    "\n",
    "testLabel = [float(i) for i in testLabel]"
   ]
  },
  {
   "cell_type": "code",
   "execution_count": 6,
   "metadata": {},
   "outputs": [],
   "source": [
    "# convert data string to int\n",
    "for i in range(0,len(trainData)):\n",
    "    trainData[i] = [float(j) for j in trainData[i]]\n",
    "    \n",
    "for i in range(0,len(valData)):\n",
    "    valData[i] = [float(j) for j in valData[i]]\n",
    "    \n",
    "for i in range(0,len(testData)):\n",
    "    testData[i] = [float(j) for j in testData[i]]"
   ]
  },
  {
   "cell_type": "code",
   "execution_count": 7,
   "metadata": {},
   "outputs": [
    {
     "data": {
      "text/plain": [
       "22"
      ]
     },
     "execution_count": 7,
     "metadata": {},
     "output_type": "execute_result"
    }
   ],
   "source": [
    "len(trainData[0])"
   ]
  },
  {
   "cell_type": "code",
   "execution_count": 8,
   "metadata": {},
   "outputs": [],
   "source": [
    "class Node:\n",
    "    def __init__(self):\n",
    "        self.left_child = None\n",
    "        self.right_child = None\n",
    "        self.rule = None\n",
    "        self.labels = None\n",
    "class Tree:\n",
    "    def __init__(self):\n",
    "        self.root = None"
   ]
  },
  {
   "cell_type": "code",
   "execution_count": 9,
   "metadata": {},
   "outputs": [],
   "source": [
    "def calcLog(prob):\n",
    "    if(prob == 0):\n",
    "        return 0.0\n",
    "    else:\n",
    "        return (prob)*math.log(prob)"
   ]
  },
  {
   "cell_type": "code",
   "execution_count": 10,
   "metadata": {},
   "outputs": [],
   "source": [
    "def splitData(data, labels):\n",
    "    featEn = []\n",
    "\n",
    "    # for i from 0 to number of features(# of columns)\n",
    "    for i in range (0,len(data[0])):\n",
    "        column = []\n",
    "        threshold = []\n",
    "    \n",
    "        # for j from 0 to number of data points(# of rows)\n",
    "        for j in range (0, len(data)):\n",
    "            # getting each i feature value in the j column\n",
    "            column.append(data[j][i])\n",
    "        \n",
    "        # get n unique values in the feature\n",
    "        uFeat = list(set(column))\n",
    "\n",
    "        uFeat.sort()\n",
    "        \n",
    "        if(len(uFeat) != 1):     \n",
    "            # get thresholds between each unique value for n-1 threshold values\n",
    "            for k in range (0, len(uFeat)-1):\n",
    "                threshold.append((uFeat[k]+uFeat[k+1])/2)\n",
    "            \n",
    "            condEn = []\n",
    "    \n",
    "            # for m from 0 to number of thresholds(n-1)\n",
    "            for m in range (0, len(threshold)):\n",
    "                numLess = 0\n",
    "                lessYes = 0\n",
    "                lessNo = 0\n",
    "                greatYes = 0\n",
    "                greatNo = 0\n",
    "        \n",
    "                # count number of features less than the threshold (P(feature) = [probLess,probGreat])\n",
    "                for n in range (0, len(column)):\n",
    "                    if(column[n] < threshold[m]):\n",
    "                        if(labels[n] == 1):\n",
    "                            lessYes += 1\n",
    "                        else:\n",
    "                            lessNo += 1\n",
    "                        numLess += 1\n",
    "                    else:\n",
    "                        if(labels[n] == 1):\n",
    "                            greatYes += 1\n",
    "                        else:\n",
    "                            greatNo += 1\n",
    "                \n",
    "                # (P(feature) = [probLess,probGreat])               \n",
    "                probLess = numLess/len(column)\n",
    "                probGreat = (len(column)-numLess)/len(column)\n",
    "    \n",
    "                # P(label|feature < threshold)\n",
    "                less = (lessYes/numLess,lessNo/numLess)\n",
    "                # P(label|feature >= threshold)\n",
    "                great = (greatYes/(len(column)-numLess),greatNo/(len(column)-numLess))\n",
    "    \n",
    "                # calculate cond entropy\n",
    "                en = probLess*(-(calcLog(less[0]) + calcLog(less[1]))) + probGreat*(-(calcLog(great[0]) + calcLog(great[1])))\n",
    "    \n",
    "                # append threshold value and its entropy to list\n",
    "                condEn.append((threshold[m], en))\n",
    "        \n",
    "       \n",
    "            # sort entropy for that feature\n",
    "            condEn.sort(key=lambda tup: tup[1]) \n",
    "\n",
    "            # put the lowest entropy of each feat in a list\n",
    "            featEn.append((condEn[0][0],condEn[0][1],i))\n",
    "            \n",
    "    featEn.sort()\n",
    "    \n",
    "    return featEn[0]"
   ]
  },
  {
   "cell_type": "code",
   "execution_count": 62,
   "metadata": {},
   "outputs": [
    {
     "data": {
      "text/plain": [
       "[(0.5, 0.3299390039689053, 4),\n",
       " (0.5, 0.5007440291663044, 5),\n",
       " (0.5, 0.5912692880769884, 6),\n",
       " (0.5, 0.614920196492256, 7),\n",
       " (0.5, 0.674032026694068, 2),\n",
       " (1.0, 0.6275685664718434, 9),\n",
       " (1.0, 0.6300485281912376, 8),\n",
       " (1.5, 0.6711446686784288, 1),\n",
       " (1.5, 0.6739912420558656, 3),\n",
       " (9.5, 0.6666625790814404, 18),\n",
       " (23.0, 0.6704963092901864, 19),\n",
       " (28.5, 0.6697377831744773, 21),\n",
       " (31.5, 0.6636594641359148, 10),\n",
       " (33.5, 0.6718070296274592, 20),\n",
       " (56.0, 0.6724794152719034, 11),\n",
       " (67.5, 0.6533529585902823, 17),\n",
       " (75.0, 0.6236341711936715, 16),\n",
       " (25000.0, 0.6603981245909911, 0),\n",
       " (28569.0, 0.6710047933781556, 12),\n",
       " (29817.0, 0.6677503803145969, 13),\n",
       " (30461.5, 0.6676054720354984, 15),\n",
       " (33539.5, 0.6668831061644981, 14)]"
      ]
     },
     "execution_count": 62,
     "metadata": {},
     "output_type": "execute_result"
    }
   ],
   "source": [
    "out"
   ]
  },
  {
   "cell_type": "code",
   "execution_count": 11,
   "metadata": {},
   "outputs": [],
   "source": [
    "def setSplit(data,rule,labels):\n",
    "    # left and right data + label\n",
    "    left = []\n",
    "    leftLabel = []\n",
    "    right = []\n",
    "    rightLabel = []\n",
    "\n",
    "    # for each i data point\n",
    "    for i in range (0,len(data)):\n",
    "        # check if the data point in the feature is < lowest entropy threshold chosen\n",
    "        if(data[i][rule[2]] < rule[0]):\n",
    "            left.append(data[i])\n",
    "            leftLabel.append(labels[i])\n",
    "        else:\n",
    "            right.append(data[i])\n",
    "            rightLabel.append(labels[i])\n",
    "    # return left data + label and right data + label\n",
    "    return left, right, leftLabel, rightLabel       "
   ]
  },
  {
   "cell_type": "code",
   "execution_count": 19,
   "metadata": {},
   "outputs": [],
   "source": [
    "(left,right,leftLabel,rightLabel) = setSplit(trainData,out,trainLabel)"
   ]
  },
  {
   "cell_type": "code",
   "execution_count": 12,
   "metadata": {},
   "outputs": [],
   "source": [
    "def createNode(data,labels):\n",
    "    if(len(set(labels)) == 1):\n",
    "        return (data,labels)\n",
    "    \n",
    "    curNode = Node()\n",
    "    \n",
    "    # decide where to split\n",
    "    bestSplit = splitData(data,labels)\n",
    "    (left,right,leftLabel,rightLabel) = setSplit(data,bestSplit,labels)\n",
    "    \n",
    "    # assign split data to children\n",
    "    curNode.left_child = createNode(left,leftLabel)\n",
    "    curNode.right_child = createNode(right,rightLabel)\n",
    "    curNode.rule = bestSplit\n",
    "    \n",
    "    return curNode"
   ]
  },
  {
   "cell_type": "code",
   "execution_count": 13,
   "metadata": {},
   "outputs": [],
   "source": [
    "# create new tree\n",
    "id3Tree = Tree()\n",
    "# create root node for the tree\n",
    "rootNode = Node()\n",
    "# give it the training data\n",
    "rootNode.rule = trainData\n",
    "rootNode.labels = trainLabel\n",
    "\n",
    "# assign root to tree\n",
    "id3Tree.root = rootNode\n",
    "\n",
    "# create queue for iteration and add root node\n",
    "nodeQueue = Queue()\n",
    "nodeQueue.put(rootNode)"
   ]
  },
  {
   "cell_type": "code",
   "execution_count": 14,
   "metadata": {},
   "outputs": [],
   "source": [
    "while(nodeQueue.qsize() != 0):\n",
    "    # get out the top node in queue\n",
    "    curNode = nodeQueue.get()\n",
    "    \n",
    "    # if node is not pure:\n",
    "    if(len(set(curNode.labels)) != 1):\n",
    "        # decide where to split\n",
    "        bestSplit = splitData(curNode.rule,curNode.labels)\n",
    "    \n",
    "        # split data via the new rule\n",
    "        (left,right,leftLabel,rightLabel) = setSplit(curNode.rule,bestSplit,curNode.labels)\n",
    "       \n",
    "        # create node children\n",
    "        leftNode = Node()\n",
    "        rightNode = Node()\n",
    "    \n",
    "        # sign data/labels to children\n",
    "        leftNode.rule = left\n",
    "        leftNode.labels = leftLabel\n",
    "        rightNode.rule = right\n",
    "        rightNode.labels = rightLabel\n",
    "    \n",
    "        # change rule to splitting rule instead of data\n",
    "        curNode.rule = bestSplit\n",
    "        # change labels to count of how many data points were split in the node\n",
    "        curNode.labels = len(curNode.labels)\n",
    "        \n",
    "        # assign children to current node\n",
    "        curNode.left_child = leftNode\n",
    "        curNode.right_child = rightNode  \n",
    "    \n",
    "        # put new nodes in queue if len > 1\n",
    "        if(len(leftNode.rule) > 1):\n",
    "            nodeQueue.put(leftNode)\n",
    "        if(len(rightNode.rule) > 1):\n",
    "            nodeQueue.put(rightNode)"
   ]
  },
  {
   "cell_type": "code",
   "execution_count": 24,
   "metadata": {},
   "outputs": [
    {
     "ename": "TypeError",
     "evalue": "'set' object does not support indexing",
     "output_type": "error",
     "traceback": [
      "\u001b[1;31m---------------------------------------------------------------------------\u001b[0m",
      "\u001b[1;31mTypeError\u001b[0m                                 Traceback (most recent call last)",
      "\u001b[1;32m<ipython-input-24-aeeac7eb3ae5>\u001b[0m in \u001b[0;36m<module>\u001b[1;34m()\u001b[0m\n\u001b[1;32m----> 1\u001b[1;33m \u001b[0mset\u001b[0m\u001b[1;33m(\u001b[0m\u001b[0mid3Tree\u001b[0m\u001b[1;33m.\u001b[0m\u001b[0mroot\u001b[0m\u001b[1;33m.\u001b[0m\u001b[0mleft_child\u001b[0m\u001b[1;33m.\u001b[0m\u001b[0mleft_child\u001b[0m\u001b[1;33m.\u001b[0m\u001b[0mlabels\u001b[0m\u001b[1;33m)\u001b[0m\u001b[1;33m[\u001b[0m\u001b[1;36m0\u001b[0m\u001b[1;33m]\u001b[0m\u001b[1;33m\u001b[0m\u001b[0m\n\u001b[0m",
      "\u001b[1;31mTypeError\u001b[0m: 'set' object does not support indexing"
     ]
    }
   ],
   "source": [
    "set(id3Tree.root.left_child.left_child.labels)"
   ]
  },
  {
   "cell_type": "code",
   "execution_count": 20,
   "metadata": {},
   "outputs": [
    {
     "data": {
      "text/plain": [
       "(0.5, 0.3299390039689053, 4)"
      ]
     },
     "execution_count": 20,
     "metadata": {},
     "output_type": "execute_result"
    }
   ],
   "source": [
    "rootNode.rule"
   ]
  },
  {
   "cell_type": "code",
   "execution_count": 27,
   "metadata": {},
   "outputs": [],
   "source": [
    "# init prediction\n",
    "trainPred = []\n",
    "\n",
    "# predict training data\n",
    "for i in range (0,len(trainData)):\n",
    "    curNode = id3Tree.root\n",
    "    \n",
    "    while(curNode.right_child != None and curNode.left_child != None):\n",
    "        if(trainData[i][curNode.rule[2]] < curNode.rule[0]):\n",
    "            curNode = curNode.left_child\n",
    "        else:\n",
    "            curNode = curNode.right_child\n",
    "            \n",
    "    nodeLabels = curNode.labels\n",
    "    # if there is only one label type in labels\n",
    "    if(len(list(set(nodeLabels))) == 1):\n",
    "        trainPred.append(nodeLabels[0])\n",
    "    # if there is more than one label predict majority\n",
    "    else:\n",
    "        # count number of 1 or 0\n",
    "        countOne = nodeLabels.count(1)\n",
    "        countZero = nodeLabels.count(0)\n",
    "        # append correct label predicted\n",
    "        if(countOne > countZero):\n",
    "            trainPred.append(1)\n",
    "        else:\n",
    "            trainPred.append(0)\n",
    "    "
   ]
  },
  {
   "cell_type": "code",
   "execution_count": 33,
   "metadata": {},
   "outputs": [],
   "source": [
    "# caluclate training error\n",
    "counter = 0\n",
    "\n",
    "for i in range (0, len(trainPred)):\n",
    "    if(trainPred[i] == trainLabel[i]):\n",
    "        counter += 1\n",
    "\n",
    "trainErr = (len(trainPred)-counter)/len(trainPred)"
   ]
  },
  {
   "cell_type": "code",
   "execution_count": 34,
   "metadata": {},
   "outputs": [
    {
     "data": {
      "text/plain": [
       "0.0"
      ]
     },
     "execution_count": 34,
     "metadata": {},
     "output_type": "execute_result"
    }
   ],
   "source": [
    "trainErr"
   ]
  },
  {
   "cell_type": "code",
   "execution_count": null,
   "metadata": {},
   "outputs": [],
   "source": []
  }
 ],
 "metadata": {
  "kernelspec": {
   "display_name": "Python 3",
   "language": "python",
   "name": "python3"
  },
  "language_info": {
   "codemirror_mode": {
    "name": "ipython",
    "version": 3
   },
   "file_extension": ".py",
   "mimetype": "text/x-python",
   "name": "python",
   "nbconvert_exporter": "python",
   "pygments_lexer": "ipython3",
   "version": "3.6.3"
  }
 },
 "nbformat": 4,
 "nbformat_minor": 2
}
