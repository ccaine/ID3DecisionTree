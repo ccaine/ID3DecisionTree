{
 "cells": [
  {
   "cell_type": "markdown",
   "metadata": {},
   "source": [
    "## Cindey Caine A10834042\n",
    "## CSE 151 PA2"
   ]
  },
  {
   "cell_type": "markdown",
   "metadata": {},
   "source": [
    "## 1. First 3 levels of tree"
   ]
  },
  {
   "cell_type": "code",
   "execution_count": 39,
   "metadata": {
    "scrolled": true
   },
   "outputs": [
    {
     "data": {
      "image/png": "[encoded data removed]",
      "text/plain": [
       "<IPython.core.display.Image object>"
      ]
     },
     "execution_count": 39,
     "metadata": {},
     "output_type": "execute_result"
    }
   ],
   "source": [
    "Image(\"diagram.png\")"
   ]
  },
  {
   "cell_type": "markdown",
   "metadata": {},
   "source": [
    "## 2. Training and Test Error"
   ]
  },
  {
   "cell_type": "code",
   "execution_count": 40,
   "metadata": {},
   "outputs": [
    {
     "name": "stdout",
     "output_type": "stream",
     "text": [
      "Training Error: 0.0\n"
     ]
    }
   ],
   "source": [
    "print(\"Training Error: \" + str(trainErr))"
   ]
  },
  {
   "cell_type": "code",
   "execution_count": 41,
   "metadata": {},
   "outputs": [
    {
     "name": "stdout",
     "output_type": "stream",
     "text": [
      "Test Error: 0.186\n"
     ]
    }
   ],
   "source": [
    "print(\"Test Error: \" + str(testErr))"
   ]
  },
  {
   "cell_type": "markdown",
   "metadata": {},
   "source": [
    "## 3. Validation and Test Error post Pruning "
   ]
  },
  {
   "cell_type": "code",
   "execution_count": 42,
   "metadata": {},
   "outputs": [
    {
     "name": "stdout",
     "output_type": "stream",
     "text": [
      "Validation Error(1 Prune): 0.121\n",
      "Test Error(1 Prune): 0.127\n"
     ]
    }
   ],
   "source": [
    "print(\"Validation Error(1 Prune): \" + str(postPrune[0][0]))\n",
    "print(\"Test Error(1 Prune): \" + str(postPrune[0][1]))"
   ]
  },
  {
   "cell_type": "code",
   "execution_count": 43,
   "metadata": {},
   "outputs": [
    {
     "name": "stdout",
     "output_type": "stream",
     "text": [
      "Validation Error(2 Prune): 0.12\n",
      "Test Error(2 Prune): 0.127\n"
     ]
    }
   ],
   "source": [
    "print(\"Validation Error(2 Prune): \" + str(postPrune[1][0]))\n",
    "print(\"Test Error(2 Prune): \" + str(postPrune[1][1]))"
   ]
  },
  {
   "cell_type": "markdown",
   "metadata": {},
   "source": [
    "## 4. The most prominent feature would be feature 5 or \"PAYMENT_DELAY_SEPTEMBER\" for predicting credit card fraud. This is because feature 5 had the lowest conditional entropy. Therefore, the tree decided to split based on this feature since it would make the \"purest\" impure node splits. "
   ]
  },
  {
   "cell_type": "code",
   "execution_count": 25,
   "metadata": {},
   "outputs": [],
   "source": [
    "import numpy as np\n",
    "import pandas as pd\n",
    "import math\n",
    "from copy import deepcopy\n",
    "from random import randint\n",
    "from queue import *\n",
    "from collections import Counter\n",
    "from IPython.display import Image"
   ]
  },
  {
   "cell_type": "code",
   "execution_count": 2,
   "metadata": {},
   "outputs": [],
   "source": [
    "# Read in data\n",
    "with open('../pa2train.txt') as f:\n",
    "    train = f.readlines()\n",
    "train = [x.strip() for x in train] \n",
    "\n",
    "with open('../pa2validation.txt') as f:\n",
    "    val = f.readlines()\n",
    "val = [x.strip() for x in val] \n",
    "\n",
    "with open('../pa2test.txt') as f:\n",
    "    test = f.readlines()\n",
    "test = [x.strip() for x in test] "
   ]
  },
  {
   "cell_type": "code",
   "execution_count": 3,
   "metadata": {},
   "outputs": [],
   "source": [
    "# create empty lists for data sorting\n",
    "trainData = []\n",
    "trainLabel = []\n",
    "\n",
    "valData = []\n",
    "valLabel = []\n",
    "\n",
    "testData = []\n",
    "testLabel = []"
   ]
  },
  {
   "cell_type": "code",
   "execution_count": 4,
   "metadata": {},
   "outputs": [],
   "source": [
    "# Remove spaces and split into label/data\n",
    "for i in range (0,len(train)):\n",
    "    train[i] = train[i].split(\" \")\n",
    "    trainLabel.append(train[i][22])\n",
    "    trainData.append(train[i][:22])\n",
    "\n",
    "for i in range (0,len(val)):\n",
    "    val[i] = val[i].split(\" \")\n",
    "    valLabel.append(val[i][22])\n",
    "    valData.append(val[i][:22])\n",
    "\n",
    "for i in range (0,len(test)):\n",
    "    test[i] = test[i].split(\" \")\n",
    "    testLabel.append(test[i][22])\n",
    "    testData.append(test[i][:22])"
   ]
  },
  {
   "cell_type": "code",
   "execution_count": 5,
   "metadata": {},
   "outputs": [],
   "source": [
    "# convert label string to int\n",
    "trainLabel = [float(i) for i in trainLabel]\n",
    "\n",
    "valLabel = [float(i) for i in valLabel]\n",
    "\n",
    "testLabel = [float(i) for i in testLabel]"
   ]
  },
  {
   "cell_type": "code",
   "execution_count": 6,
   "metadata": {},
   "outputs": [],
   "source": [
    "# convert data string to int\n",
    "for i in range(0,len(trainData)):\n",
    "    trainData[i] = [float(j) for j in trainData[i]]\n",
    "    \n",
    "for i in range(0,len(valData)):\n",
    "    valData[i] = [float(j) for j in valData[i]]\n",
    "    \n",
    "for i in range(0,len(testData)):\n",
    "    testData[i] = [float(j) for j in testData[i]]"
   ]
  },
  {
   "cell_type": "code",
   "execution_count": 7,
   "metadata": {},
   "outputs": [],
   "source": [
    "class Node:\n",
    "    def __init__(self):\n",
    "        self.left_child = None\n",
    "        self.right_child = None\n",
    "        self.rule = None\n",
    "        self.labels = None\n",
    "        self.labelsCount = None\n",
    "        self.parent = None\n",
    "        self.side = None\n",
    "class Tree:\n",
    "    def __init__(self):\n",
    "        self.root = None"
   ]
  },
  {
   "cell_type": "code",
   "execution_count": 8,
   "metadata": {},
   "outputs": [],
   "source": [
    "def calcLog(prob):\n",
    "    if(prob == 0):\n",
    "        return 0.0\n",
    "    else:\n",
    "        return (prob)*math.log(prob)"
   ]
  },
  {
   "cell_type": "code",
   "execution_count": 9,
   "metadata": {},
   "outputs": [],
   "source": [
    "def splitData(data, labels):\n",
    "    featEn = []\n",
    "\n",
    "    # for i from 0 to number of features(# of columns)\n",
    "    for i in range (0,len(data[0])):\n",
    "        column = []\n",
    "        threshold = []\n",
    "    \n",
    "        # for j from 0 to number of data points(# of rows)\n",
    "        for j in range (0, len(data)):\n",
    "            # getting each i feature value in the j column\n",
    "            column.append(data[j][i])\n",
    "        \n",
    "        # get n unique values in the feature\n",
    "        uFeat = list(set(column))\n",
    "\n",
    "        uFeat.sort()\n",
    "        \n",
    "        if(len(uFeat) != 1):     \n",
    "            # get thresholds between each unique value for n-1 threshold values\n",
    "            for k in range (0, len(uFeat)-1):\n",
    "                threshold.append((uFeat[k]+uFeat[k+1])/2)\n",
    "            \n",
    "            condEn = []\n",
    "    \n",
    "            # for m from 0 to number of thresholds(n-1)\n",
    "            for m in range (0, len(threshold)):\n",
    "                numLess = 0\n",
    "                lessYes = 0\n",
    "                lessNo = 0\n",
    "                greatYes = 0\n",
    "                greatNo = 0\n",
    "        \n",
    "                # count number of features less than the threshold (P(feature) = [probLess,probGreat])\n",
    "                for n in range (0, len(column)):\n",
    "                    if(column[n] < threshold[m]):\n",
    "                        if(labels[n] == 1):\n",
    "                            lessYes += 1\n",
    "                        else:\n",
    "                            lessNo += 1\n",
    "                        numLess += 1\n",
    "                    else:\n",
    "                        if(labels[n] == 1):\n",
    "                            greatYes += 1\n",
    "                        else:\n",
    "                            greatNo += 1\n",
    "                \n",
    "                # (P(feature) = [probLess,probGreat])               \n",
    "                probLess = numLess/len(column)\n",
    "                probGreat = (len(column)-numLess)/len(column)\n",
    "    \n",
    "                # P(label|feature < threshold)\n",
    "                less = (lessYes/numLess,lessNo/numLess)\n",
    "                # P(label|feature >= threshold)\n",
    "                great = (greatYes/(len(column)-numLess),greatNo/(len(column)-numLess))\n",
    "    \n",
    "                # calculate cond entropy\n",
    "                en = probLess*(-(calcLog(less[0]) + calcLog(less[1]))) + probGreat*(-(calcLog(great[0]) + calcLog(great[1])))\n",
    "    \n",
    "                # append threshold value and its entropy to list\n",
    "                condEn.append((threshold[m], en))\n",
    "        \n",
    "       \n",
    "            # sort entropy for that feature\n",
    "            condEn.sort(key=lambda tup: tup[1]) \n",
    "\n",
    "            # put the lowest entropy of each feat in a list\n",
    "            featEn.append((condEn[0][0],condEn[0][1],i))\n",
    "            \n",
    "    featEn.sort()\n",
    "    \n",
    "    return featEn[0]"
   ]
  },
  {
   "cell_type": "code",
   "execution_count": 10,
   "metadata": {},
   "outputs": [],
   "source": [
    "def setSplit(data,rule,labels):\n",
    "    # left and right data + label\n",
    "    left = []\n",
    "    leftLabel = []\n",
    "    right = []\n",
    "    rightLabel = []\n",
    "\n",
    "    # for each i data point\n",
    "    for i in range (0,len(data)):\n",
    "        # check if the data point in the feature is < lowest entropy threshold chosen\n",
    "        if(data[i][rule[2]] < rule[0]):\n",
    "            left.append(data[i])\n",
    "            leftLabel.append(labels[i])\n",
    "        else:\n",
    "            right.append(data[i])\n",
    "            rightLabel.append(labels[i])\n",
    "    # return left data + label and right data + label\n",
    "    return left, right, leftLabel, rightLabel       "
   ]
  },
  {
   "cell_type": "code",
   "execution_count": 11,
   "metadata": {},
   "outputs": [],
   "source": [
    "# create new tree\n",
    "id3Tree = Tree()\n",
    "# create root node for the tree\n",
    "rootNode = Node()\n",
    "# give it the training data\n",
    "rootNode.rule = trainData\n",
    "rootNode.labels = trainLabel\n",
    "\n",
    "# assign root to tree\n",
    "id3Tree.root = rootNode\n",
    "\n",
    "# create queue for iteration and add root node\n",
    "nodeQueue = Queue()\n",
    "nodeQueue.put(rootNode)"
   ]
  },
  {
   "cell_type": "code",
   "execution_count": 12,
   "metadata": {},
   "outputs": [],
   "source": [
    "while(nodeQueue.qsize() != 0):\n",
    "    # get out the top node in queue\n",
    "    curNode = nodeQueue.get()\n",
    "    \n",
    "    # if node is not pure:\n",
    "    if(len(set(curNode.labels)) != 1):\n",
    "        # decide where to split\n",
    "        bestSplit = splitData(curNode.rule,curNode.labels)\n",
    "    \n",
    "        # split data via the new rule\n",
    "        (left,right,leftLabel,rightLabel) = setSplit(curNode.rule,bestSplit,curNode.labels)\n",
    "       \n",
    "        # create node children\n",
    "        leftNode = Node()\n",
    "        rightNode = Node()\n",
    "    \n",
    "        # sign data/labels to children\n",
    "        leftNode.rule = left\n",
    "        leftNode.labels = leftLabel\n",
    "        rightNode.rule = right\n",
    "        rightNode.labels = rightLabel\n",
    "    \n",
    "        leftNode.parent = curNode\n",
    "        rightNode.parent = curNode\n",
    "        \n",
    "        leftNode.side = 1\n",
    "        rightNode.side = 0\n",
    "        \n",
    "        # change rule to splitting rule instead of data\n",
    "        curNode.rule = bestSplit\n",
    "        # count labels of how many data points were split in the node\n",
    "        curNode.labelsCount = len(curNode.labels)\n",
    "        \n",
    "        # assign children to current node\n",
    "        curNode.left_child = leftNode\n",
    "        curNode.right_child = rightNode  \n",
    "    \n",
    "        # put new nodes in queue if len > 1\n",
    "        if(len(leftNode.rule) > 1):\n",
    "            nodeQueue.put(leftNode)\n",
    "        if(len(rightNode.rule) > 1):\n",
    "            nodeQueue.put(rightNode)"
   ]
  },
  {
   "cell_type": "code",
   "execution_count": 13,
   "metadata": {},
   "outputs": [
    {
     "data": {
      "text/plain": [
       "{1.0}"
      ]
     },
     "execution_count": 13,
     "metadata": {},
     "output_type": "execute_result"
    }
   ],
   "source": [
    "set(id3Tree.root.left_child.left_child.labels)"
   ]
  },
  {
   "cell_type": "code",
   "execution_count": 14,
   "metadata": {},
   "outputs": [
    {
     "data": {
      "text/plain": [
       "2000"
      ]
     },
     "execution_count": 14,
     "metadata": {},
     "output_type": "execute_result"
    }
   ],
   "source": [
    "rootNode.labelsCount"
   ]
  },
  {
   "cell_type": "code",
   "execution_count": 15,
   "metadata": {},
   "outputs": [],
   "source": [
    "def calcError(data, labels, tree):\n",
    "    # init prediction\n",
    "    pred = []\n",
    "\n",
    "    # predict training data\n",
    "    for i in range (0,len(data)):\n",
    "        curNode = tree.root\n",
    "    \n",
    "        while(curNode.right_child != None and curNode.left_child != None):\n",
    "            if(data[i][curNode.rule[2]] < curNode.rule[0]):\n",
    "                curNode = curNode.left_child\n",
    "            else:\n",
    "                curNode = curNode.right_child\n",
    "            \n",
    "        nodeLabels = curNode.labels\n",
    "        # if there is only one label type in labels\n",
    "        if(len(list(set(nodeLabels))) == 1):\n",
    "            pred.append(nodeLabels[0])\n",
    "        # if there is more than one label predict majority\n",
    "        else:\n",
    "            # count number of 1 or 0\n",
    "            countOne = nodeLabels.count(1)\n",
    "            countZero = nodeLabels.count(0)\n",
    "            # append correct label predicted\n",
    "            if(countOne > countZero):\n",
    "                pred.append(1)\n",
    "            else:\n",
    "                pred.append(0)\n",
    "                \n",
    "    # caluclate training error\n",
    "    counter = 0\n",
    "    for i in range (0, len(pred)):\n",
    "        if(pred[i] == labels[i]):\n",
    "            counter += 1\n",
    "    \n",
    "    # do computation for error\n",
    "    err = (len(pred)-counter)/len(pred)\n",
    "    \n",
    "    return err"
   ]
  },
  {
   "cell_type": "code",
   "execution_count": 16,
   "metadata": {},
   "outputs": [],
   "source": [
    "trainErr = calcError(trainData, trainLabel, id3Tree)"
   ]
  },
  {
   "cell_type": "code",
   "execution_count": 17,
   "metadata": {},
   "outputs": [
    {
     "data": {
      "text/plain": [
       "0.0"
      ]
     },
     "execution_count": 17,
     "metadata": {},
     "output_type": "execute_result"
    }
   ],
   "source": [
    "trainErr"
   ]
  },
  {
   "cell_type": "code",
   "execution_count": 18,
   "metadata": {},
   "outputs": [],
   "source": [
    "testErr = calcError(testData, testLabel, id3Tree)"
   ]
  },
  {
   "cell_type": "code",
   "execution_count": 19,
   "metadata": {},
   "outputs": [
    {
     "data": {
      "text/plain": [
       "0.186"
      ]
     },
     "execution_count": 19,
     "metadata": {},
     "output_type": "execute_result"
    }
   ],
   "source": [
    "testErr"
   ]
  },
  {
   "cell_type": "code",
   "execution_count": 20,
   "metadata": {},
   "outputs": [],
   "source": [
    "valErr = calcError(valData, valLabel, id3Tree)"
   ]
  },
  {
   "cell_type": "code",
   "execution_count": 21,
   "metadata": {},
   "outputs": [
    {
     "data": {
      "text/plain": [
       "0.193"
      ]
     },
     "execution_count": 21,
     "metadata": {},
     "output_type": "execute_result"
    }
   ],
   "source": [
    "valErr"
   ]
  },
  {
   "cell_type": "code",
   "execution_count": 22,
   "metadata": {},
   "outputs": [],
   "source": [
    "# make a new copy of tree to prune\n",
    "toPrune = deepcopy(id3Tree)\n",
    "numPrune = 0\n",
    "bfsQueue = Queue()\n",
    "bfsQueue.put(toPrune.root.left_child)\n",
    "bfsQueue.put(toPrune.root.right_child)\n",
    "postPrune = []"
   ]
  },
  {
   "cell_type": "code",
   "execution_count": 23,
   "metadata": {},
   "outputs": [
    {
     "name": "stdout",
     "output_type": "stream",
     "text": [
      "valErr: 0.193newValerr: 0.121\n",
      "newtesterr: 0.127\n",
      "valErr: 0.121newValerr: 0.12\n",
      "newtesterr: 0.127\n"
     ]
    }
   ],
   "source": [
    "# only prune 2 nodes\n",
    "while(numPrune != 2):\n",
    "    #print(\"size queue before pop\" + str(bfsQueue.qsize()))\n",
    "    # grab a node from queue\n",
    "    curNode = bfsQueue.get()\n",
    "    origNode = deepcopy(curNode)\n",
    "    \n",
    "    # count number of each label at node\n",
    "    numCounts = Counter(curNode.labels)\n",
    "    numZero = numCounts[0.0]\n",
    "    numOne = numCounts[1.1]\n",
    "    \n",
    "    # assign the majority label to predict that one\n",
    "    if(numOne == numZero):\n",
    "        if(randint(0,1) == 1):\n",
    "            curNode.labels = [1.0]\n",
    "        else:\n",
    "            curNode.labels = [0.0]\n",
    "    elif(numOne > numZero):\n",
    "        curNode.labels = [1.0]\n",
    "    else:\n",
    "        curNode.labels = [0.0]\n",
    "        \n",
    "    # Make current node a leaf\n",
    "    curNode.left_child = None\n",
    "    curNode.right_child = None\n",
    "\n",
    "    #print(\"majority pred: \" + str(curNode.labels))\n",
    "    \n",
    "    #print(\"toprune rule: \" + str(toPrune.root.labels))\n",
    "    # calculate new error on new prunned tree\n",
    "    newValErr = calcError(valData,valLabel,toPrune)\n",
    "    \n",
    "    #print(\"newValerr: \" + str(newValErr))\n",
    "\n",
    "    # if the new error is less than old error\n",
    "    if(newValErr < valErr):\n",
    "        print(\"valErr: \" + str(valErr) + \"newValerr: \" + str(newValErr) )\n",
    "        newTestErr = calcError(testData,testLabel,toPrune)\n",
    "        print(\"newtesterr: \" + str(newTestErr))\n",
    "        postPrune.append((newValErr,newTestErr))\n",
    "        # increase count\n",
    "        numPrune += 1\n",
    "        # set original tree to new prune tree\n",
    "        id3Tree = toPrune\n",
    "        # set val error to new lower error\n",
    "        valErr = newValErr\n",
    "    # if the error is greater than original\n",
    "    else: \n",
    "        # replace new node with old node\n",
    "        if(curNode.side == 1):\n",
    "            curNode.parent.left_child = origNode\n",
    "        else:\n",
    "            curNode.parent.right_child = origNode\n",
    "        \n",
    "        # print(\"curNode set as orig labels: \"+ str(curNode.labels))\n",
    "        # if current node has a children put it in queue\n",
    "        if(origNode.left_child != None):\n",
    "            bfsQueue.put(origNode.left_child)\n",
    "        if(origNode.right_child != None):\n",
    "            bfsQueue.put(origNode.right_child)"
   ]
  },
  {
   "cell_type": "code",
   "execution_count": 24,
   "metadata": {},
   "outputs": [
    {
     "data": {
      "text/plain": [
       "[(0.121, 0.127), (0.12, 0.127)]"
      ]
     },
     "execution_count": 24,
     "metadata": {},
     "output_type": "execute_result"
    }
   ],
   "source": [
    "postPrune"
   ]
  },
  {
   "cell_type": "code",
   "execution_count": 31,
   "metadata": {},
   "outputs": [],
   "source": [
    "# get all rules from all non leaf nodes\n",
    "q = Queue()\n",
    "q.put(id3Tree.root)\n",
    "allRules = []\n",
    "while(q.qsize() != 0):\n",
    "    curNode = q.get()\n",
    "    if(curNode.left_child != None):\n",
    "        allRules.append(curNode.rule)\n",
    "    if(curNode.left_child != None):\n",
    "        q.put(curNode.left_child)\n",
    "    if(curNode.right_child != None):\n",
    "        q.put(curNode.right_child)\n",
    "    "
   ]
  },
  {
   "cell_type": "code",
   "execution_count": 32,
   "metadata": {},
   "outputs": [
    {
     "data": {
      "text/plain": [
       "[(0.5, 0.3299390039689053, 4),\n",
       " (0.5, 0.22480644977952097, 7),\n",
       " (0.5, 0.25999770148417206, 2),\n",
       " (-18.0, 0.154789951406783, 13),\n",
       " (1.0, 0.3724643483246227, 9),\n",
       " (-2213.0, 0.21783592704328936, 12),\n",
       " (0.5, 0.15474444816683164, 2),\n",
       " (1.0, 0.39012135209543813, 8),\n",
       " (0.5, 0.21249888880230233, 20),\n",
       " (1.0, 0.09330230429676277, 9),\n",
       " (1.0, 0.15437589825352815, 9),\n",
       " (1.0, 0.3699813924755972, 6),\n",
       " (1.0, 0.5608430558410471, 5),\n",
       " (1.0, 0.3143074878196602, 8),\n",
       " (1.0, 0.1580133801953386, 8),\n",
       " (1.5, 0.14409843870454572, 1),\n",
       " (1.0, 0.26579661801650545, 6),\n",
       " (1.5, 0.07533940311598857, 21),\n",
       " (1.0, 0.35902395969116296, 5),\n",
       " (1.5, 0.35533180690739113, 4),\n",
       " (1.5, -0.0, 4),\n",
       " (1.0, 0.3336288495451112, 5),\n",
       " (1.0, 0.12933672295781606, 6),\n",
       " (1.0, 0.3637058873913608, 5),\n",
       " (1.0, 0.2518187035388552, 5),\n",
       " (1.0, 0.28378512849014564, 5),\n",
       " (1.5, 0.1841272816047167, 3),\n",
       " (1.5, 0.22653722100178036, 4),\n",
       " (1.5, 0.39703564768121974, 1),\n",
       " (1.5, 0.4206322918807853, 1),\n",
       " (0.5, 0.20929925750581915, 17),\n",
       " (-21.0, 0.38345812971759524, 12),\n",
       " (-59.5, 0.18033239816802515, 15),\n",
       " (0.5, 0.08999695416624902, 5),\n",
       " (1.0, 0.19413395201038552, 9),\n",
       " (1.0, 0.48808902141574073, 9),\n",
       " (1.5, 0.2577690054493553, 3),\n",
       " (1.5, -0.0, 1),\n",
       " (1.0, 0.2607159395616988, 8),\n",
       " (1.5, 0.27272958581590145, 1),\n",
       " (-900.0, 0.49580606164146607, 12),\n",
       " (1.5, 0.5234858900121001, 4),\n",
       " (1.5, 0.22528060443315231, 4),\n",
       " (1.5, 0.6591673732008658, 3),\n",
       " (1.5, 0.3003741392442031, 1),\n",
       " (-1.0, 0.3739567860443292, 12),\n",
       " (-151.0, -0.0, 15),\n",
       " (1.0, 0.11751539498479911, 6),\n",
       " (1.0, 0.14917863977015877, 9),\n",
       " (1.5, 0.12557955450349148, 4),\n",
       " (1.5, 0.25020121176909393, 1),\n",
       " (1.5, 0.6059391565991873, 1),\n",
       " (1.0, 0.3588517785023579, 6),\n",
       " (1.5, 0.29552997581040746, 4),\n",
       " (1.5, 0.1659341498622544, 3),\n",
       " (1.5, 0.20784159708275227, 4),\n",
       " (1.5, 0.19585899164133183, 4),\n",
       " (2.5, 0.19095425048844383, 7),\n",
       " (-2057.0, 0.5553311836862668, 10),\n",
       " (1.5, 0.5941261547656673, 3),\n",
       " (1055.5, 0.3182570841474064, 20),\n",
       " (240.0, -0.0, 16),\n",
       " (-1.0, 0.46209812037329684, 10),\n",
       " (2.5, -0.0, 3),\n",
       " (1.0, 0.3759649154306351, 6),\n",
       " (1.0, 0.23185856077319186, 9),\n",
       " (1.5, 0.12249256546920573, 4),\n",
       " (1.0, 0.33490681000572153, 5),\n",
       " (1.5, 0.38190850097688767, 3),\n",
       " (1.5, -0.0, 3),\n",
       " (1.5, 0.34657359027997264, 3),\n",
       " (1.5, 0.19804205158855578, 1),\n",
       " (2.5, 0.3014161290051494, 8),\n",
       " (1.5, 0.23560468033653129, 1),\n",
       " (1.5, 0.5941261547656673, 1),\n",
       " (2.5, 0.24149914327594518, 4),\n",
       " (1.5, 0.6059391565991873, 4),\n",
       " (-97.0, 0.476735579151889, 10),\n",
       " (7.0, 0.4773856262211096, 16),\n",
       " (1010.0, 0.46209812037329684, 21),\n",
       " (1094.5, -0.0, 20),\n",
       " (1.5, -0.0, 5),\n",
       " (1.5, 0.32854789528597717, 1),\n",
       " (1.5, 0.17328679513998632, 3),\n",
       " (-1.5, 0.2698201404404767, 10),\n",
       " (1.5, 0.3127515147113674, 3),\n",
       " (161.5, 0.46209812037329684, 21),\n",
       " (1.5, -0.0, 4),\n",
       " (1.5, -0.0, 3),\n",
       " (700.0, 0.17328679513998632, 17),\n",
       " (2.5, 0.3336016156921252, 18),\n",
       " (2.5, 0.46209812037329684, 7),\n",
       " (1.5, 0.4773856262211096, 3),\n",
       " (2.5, 0.31897935866876254, 6),\n",
       " (2.5, -0.0, 9),\n",
       " (2.5, 0.34657359027997264, 6),\n",
       " (-4.0, 0.49985346188338514, 10),\n",
       " (140.5, -0.0, 18),\n",
       " (2560.0, -0.0, 21),\n",
       " (1.0, 0.5047548875545029, 9),\n",
       " (580.0, -0.0, 18),\n",
       " (-7.5, -0.0, 10),\n",
       " (1.5, 0.19621805391170546, 1),\n",
       " (1.5, 0.5004024235381879, 1),\n",
       " (915.0, -0.0, 20),\n",
       " (930.0, -0.0, 19),\n",
       " (2.5, 0.476735579151889, 3),\n",
       " (500.0, -0.0, 17),\n",
       " (2.5, 0.46209812037329684, 7),\n",
       " (2.5, 0.38619532188540395, 9),\n",
       " (3.5, -0.0, 9),\n",
       " (1.5, 0.34657359027997264, 1),\n",
       " (1.5, 0.472375452385301, 4),\n",
       " (1.5, 0.46209812037329684, 3),\n",
       " (2.5, 0.3420877484057018, 3),\n",
       " (2.0, 0.44986811569504664, 17),\n",
       " (500.0, 0.44986811569504664, 17),\n",
       " (2.5, 0.49985346188338514, 4),\n",
       " (900.0, -0.0, 18),\n",
       " (1150.0, 0.23104906018664842, 18),\n",
       " (1.5, -0.0, 3),\n",
       " (-46.5, 0.5017702400862073, 10),\n",
       " (753.5, -0.0, 15),\n",
       " (1.5, 0.36197942074345774, 3),\n",
       " (2800.0, -0.0, 18),\n",
       " (1713.5, 0.34657359027997264, 20),\n",
       " (1.5, 0.5514443278219222, 4),\n",
       " (2300.0, -0.0, 20),\n",
       " (2.5, 0.45352456031619226, 3),\n",
       " (111.0, 0.3003741392442031, 11),\n",
       " (953.5, 0.28116757230940415, 15),\n",
       " (3056.0, -0.0, 20),\n",
       " (2.5, 0.46209812037329684, 5),\n",
       " (2.5, 0.44986811569504664, 6),\n",
       " (1.5, 0.4654686187721906, 3),\n",
       " (503.5, 0.3182570841474064, 21),\n",
       " (1198.0, 0.34657359027997264, 10),\n",
       " (500.0, -0.0, 21),\n",
       " (1812.0, 0.34657359027997264, 19),\n",
       " (31.0, 0.2518187035388552, 19),\n",
       " (120.5, 0.34657359027997264, 11),\n",
       " (1594.5, 0.46209812037329684, 20),\n",
       " (608.0, -0.0, 11),\n",
       " (1750.0, -0.0, 16),\n",
       " (90.5, 0.2500638256857294, 17),\n",
       " (114.5, 0.4773856262211096, 12),\n",
       " (2275.0, -0.0, 21),\n",
       " (995.0, 0.31394888625872874, 13),\n",
       " (399.5, -0.0, 13),\n",
       " (1418.5, 0.15403270679109896, 21),\n",
       " (2326.5, -0.0, 21)]"
      ]
     },
     "execution_count": 32,
     "metadata": {},
     "output_type": "execute_result"
    }
   ],
   "source": [
    "allRules"
   ]
  },
  {
   "cell_type": "code",
   "execution_count": 34,
   "metadata": {},
   "outputs": [],
   "source": [
    "with open('../pa2features.txt') as f:\n",
    "    feat = f.readlines()\n",
    "feat = [x.strip() for x in test] "
   ]
  },
  {
   "cell_type": "code",
   "execution_count": 35,
   "metadata": {},
   "outputs": [
    {
     "data": {
      "text/plain": [
       "['LIMIT_BAL',\n",
       " 'SEX',\n",
       " 'COLLEGE_ABOVE',\n",
       " 'AGE',\n",
       " 'PAYMENT_DELAY_SEPTEMBER',\n",
       " 'PAYMENT_DELAY_AUGUST',\n",
       " 'PAYMENT_DELAY_JULY',\n",
       " 'PAYMENT_DELAY_JUNE',\n",
       " 'PAYMENT_DELAY_MAY',\n",
       " 'PAYMENT_DELAY_APRIL',\n",
       " 'BILL_AMT1',\n",
       " 'BILL_AMT2',\n",
       " 'BILL_AMT3',\n",
       " 'BILL_AMT4',\n",
       " 'BILL_AMT5',\n",
       " 'BILL_AMT6',\n",
       " 'PAY_AMT1',\n",
       " 'PAY_AMT2',\n",
       " 'PAY_AMT3',\n",
       " 'PAY_AMT4',\n",
       " 'PAY_AMT5',\n",
       " 'PAY_AMT6']"
      ]
     },
     "execution_count": 35,
     "metadata": {},
     "output_type": "execute_result"
    }
   ],
   "source": [
    "feat"
   ]
  },
  {
   "cell_type": "code",
   "execution_count": 37,
   "metadata": {},
   "outputs": [],
   "source": [
    "topFeat = [feat[x[2]] for x in allRules]"
   ]
  },
  {
   "cell_type": "code",
   "execution_count": 38,
   "metadata": {},
   "outputs": [
    {
     "data": {
      "text/plain": [
       "['PAYMENT_DELAY_SEPTEMBER',\n",
       " 'PAYMENT_DELAY_JUNE',\n",
       " 'COLLEGE_ABOVE',\n",
       " 'BILL_AMT4',\n",
       " 'PAYMENT_DELAY_APRIL',\n",
       " 'BILL_AMT3',\n",
       " 'COLLEGE_ABOVE',\n",
       " 'PAYMENT_DELAY_MAY',\n",
       " 'PAY_AMT5',\n",
       " 'PAYMENT_DELAY_APRIL',\n",
       " 'PAYMENT_DELAY_APRIL',\n",
       " 'PAYMENT_DELAY_JULY',\n",
       " 'PAYMENT_DELAY_AUGUST',\n",
       " 'PAYMENT_DELAY_MAY',\n",
       " 'PAYMENT_DELAY_MAY',\n",
       " 'SEX',\n",
       " 'PAYMENT_DELAY_JULY',\n",
       " 'PAY_AMT6',\n",
       " 'PAYMENT_DELAY_AUGUST',\n",
       " 'PAYMENT_DELAY_SEPTEMBER',\n",
       " 'PAYMENT_DELAY_SEPTEMBER',\n",
       " 'PAYMENT_DELAY_AUGUST',\n",
       " 'PAYMENT_DELAY_JULY',\n",
       " 'PAYMENT_DELAY_AUGUST',\n",
       " 'PAYMENT_DELAY_AUGUST',\n",
       " 'PAYMENT_DELAY_AUGUST',\n",
       " 'AGE',\n",
       " 'PAYMENT_DELAY_SEPTEMBER',\n",
       " 'SEX',\n",
       " 'SEX',\n",
       " 'PAY_AMT2',\n",
       " 'BILL_AMT3',\n",
       " 'BILL_AMT6',\n",
       " 'PAYMENT_DELAY_AUGUST',\n",
       " 'PAYMENT_DELAY_APRIL',\n",
       " 'PAYMENT_DELAY_APRIL',\n",
       " 'AGE',\n",
       " 'SEX',\n",
       " 'PAYMENT_DELAY_MAY',\n",
       " 'SEX',\n",
       " 'BILL_AMT3',\n",
       " 'PAYMENT_DELAY_SEPTEMBER',\n",
       " 'PAYMENT_DELAY_SEPTEMBER',\n",
       " 'AGE',\n",
       " 'SEX',\n",
       " 'BILL_AMT3',\n",
       " 'BILL_AMT6',\n",
       " 'PAYMENT_DELAY_JULY',\n",
       " 'PAYMENT_DELAY_APRIL',\n",
       " 'PAYMENT_DELAY_SEPTEMBER',\n",
       " 'SEX',\n",
       " 'SEX',\n",
       " 'PAYMENT_DELAY_JULY',\n",
       " 'PAYMENT_DELAY_SEPTEMBER',\n",
       " 'AGE',\n",
       " 'PAYMENT_DELAY_SEPTEMBER',\n",
       " 'PAYMENT_DELAY_SEPTEMBER',\n",
       " 'PAYMENT_DELAY_JUNE',\n",
       " 'BILL_AMT1',\n",
       " 'AGE',\n",
       " 'PAY_AMT5',\n",
       " 'PAY_AMT1',\n",
       " 'BILL_AMT1',\n",
       " 'AGE',\n",
       " 'PAYMENT_DELAY_JULY',\n",
       " 'PAYMENT_DELAY_APRIL',\n",
       " 'PAYMENT_DELAY_SEPTEMBER',\n",
       " 'PAYMENT_DELAY_AUGUST',\n",
       " 'AGE',\n",
       " 'AGE',\n",
       " 'AGE',\n",
       " 'SEX',\n",
       " 'PAYMENT_DELAY_MAY',\n",
       " 'SEX',\n",
       " 'SEX',\n",
       " 'PAYMENT_DELAY_SEPTEMBER',\n",
       " 'PAYMENT_DELAY_SEPTEMBER',\n",
       " 'BILL_AMT1',\n",
       " 'PAY_AMT1',\n",
       " 'PAY_AMT6',\n",
       " 'PAY_AMT5',\n",
       " 'PAYMENT_DELAY_AUGUST',\n",
       " 'SEX',\n",
       " 'AGE',\n",
       " 'BILL_AMT1',\n",
       " 'AGE',\n",
       " 'PAY_AMT6',\n",
       " 'PAYMENT_DELAY_SEPTEMBER',\n",
       " 'AGE',\n",
       " 'PAY_AMT2',\n",
       " 'PAY_AMT3',\n",
       " 'PAYMENT_DELAY_JUNE',\n",
       " 'AGE',\n",
       " 'PAYMENT_DELAY_JULY',\n",
       " 'PAYMENT_DELAY_APRIL',\n",
       " 'PAYMENT_DELAY_JULY',\n",
       " 'BILL_AMT1',\n",
       " 'PAY_AMT3',\n",
       " 'PAY_AMT6',\n",
       " 'PAYMENT_DELAY_APRIL',\n",
       " 'PAY_AMT3',\n",
       " 'BILL_AMT1',\n",
       " 'SEX',\n",
       " 'SEX',\n",
       " 'PAY_AMT5',\n",
       " 'PAY_AMT4',\n",
       " 'AGE',\n",
       " 'PAY_AMT2',\n",
       " 'PAYMENT_DELAY_JUNE',\n",
       " 'PAYMENT_DELAY_APRIL',\n",
       " 'PAYMENT_DELAY_APRIL',\n",
       " 'SEX',\n",
       " 'PAYMENT_DELAY_SEPTEMBER',\n",
       " 'AGE',\n",
       " 'AGE',\n",
       " 'PAY_AMT2',\n",
       " 'PAY_AMT2',\n",
       " 'PAYMENT_DELAY_SEPTEMBER',\n",
       " 'PAY_AMT3',\n",
       " 'PAY_AMT3',\n",
       " 'AGE',\n",
       " 'BILL_AMT1',\n",
       " 'BILL_AMT6',\n",
       " 'AGE',\n",
       " 'PAY_AMT3',\n",
       " 'PAY_AMT5',\n",
       " 'PAYMENT_DELAY_SEPTEMBER',\n",
       " 'PAY_AMT5',\n",
       " 'AGE',\n",
       " 'BILL_AMT2',\n",
       " 'BILL_AMT6',\n",
       " 'PAY_AMT5',\n",
       " 'PAYMENT_DELAY_AUGUST',\n",
       " 'PAYMENT_DELAY_JULY',\n",
       " 'AGE',\n",
       " 'PAY_AMT6',\n",
       " 'BILL_AMT1',\n",
       " 'PAY_AMT6',\n",
       " 'PAY_AMT4',\n",
       " 'PAY_AMT4',\n",
       " 'BILL_AMT2',\n",
       " 'PAY_AMT5',\n",
       " 'BILL_AMT2',\n",
       " 'PAY_AMT1',\n",
       " 'PAY_AMT2',\n",
       " 'BILL_AMT3',\n",
       " 'PAY_AMT6',\n",
       " 'BILL_AMT4',\n",
       " 'BILL_AMT4',\n",
       " 'PAY_AMT6',\n",
       " 'PAY_AMT6']"
      ]
     },
     "execution_count": 38,
     "metadata": {},
     "output_type": "execute_result"
    }
   ],
   "source": [
    "topFeat"
   ]
  },
  {
   "cell_type": "code",
   "execution_count": null,
   "metadata": {},
   "outputs": [],
   "source": []
  }
 ],
 "metadata": {
  "kernelspec": {
   "display_name": "Python 3",
   "language": "python",
   "name": "python3"
  },
  "language_info": {
   "codemirror_mode": {
    "name": "ipython",
    "version": 3
   },
   "file_extension": ".py",
   "mimetype": "text/x-python",
   "name": "python",
   "nbconvert_exporter": "python",
   "pygments_lexer": "ipython3",
   "version": "3.6.3"
  }
 },
 "nbformat": 4,
 "nbformat_minor": 2
}
